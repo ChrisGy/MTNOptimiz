{
 "cells": [
  {
   "cell_type": "markdown",
   "metadata": {},
   "source": [
    "# Load data"
   ]
  },
  {
   "cell_type": "code",
   "execution_count": 2,
   "metadata": {
    "scrolled": false
   },
   "outputs": [
    {
     "ename": "NameError",
     "evalue": "name 'pd' is not defined",
     "output_type": "error",
     "traceback": [
      "\u001b[1;31m---------------------------------------------------------------------------\u001b[0m",
      "\u001b[1;31mNameError\u001b[0m                                 Traceback (most recent call last)",
      "\u001b[1;32m<ipython-input-2-c391e057c129>\u001b[0m in \u001b[0;36m<module>\u001b[1;34m\u001b[0m\n\u001b[1;32m----> 1\u001b[1;33m \u001b[0mactual_data\u001b[0m\u001b[1;33m=\u001b[0m\u001b[0mpd\u001b[0m\u001b[1;33m.\u001b[0m\u001b[0mread_csv\u001b[0m\u001b[1;33m(\u001b[0m\u001b[1;34m'fooddata.csv'\u001b[0m\u001b[1;33m)\u001b[0m\u001b[1;33m\u001b[0m\u001b[1;33m\u001b[0m\u001b[0m\n\u001b[0m",
      "\u001b[1;31mNameError\u001b[0m: name 'pd' is not defined"
     ]
    }
   ],
   "source": [
    "actual_data=pd.read_csv('fooddata.csv')"
   ]
  },
  {
   "cell_type": "code",
   "execution_count": null,
   "metadata": {
    "scrolled": true
   },
   "outputs": [],
   "source": [
    "actual_data.head()"
   ]
  },
  {
   "cell_type": "code",
   "execution_count": null,
   "metadata": {
    "scrolled": true
   },
   "outputs": [],
   "source": [
    "import pandas as pd\n",
    "import numpy as np\n",
    "import matplotlib.pyplot as plt\n",
    "import seaborn as sns\n",
    "%matplotlib inline "
   ]
  },
  {
   "cell_type": "code",
   "execution_count": null,
   "metadata": {
    "scrolled": true
   },
   "outputs": [],
   "source": [
    "actual_data.describe()"
   ]
  },
  {
   "cell_type": "code",
   "execution_count": null,
   "metadata": {},
   "outputs": [],
   "source": [
    "actual_data.info()"
   ]
  },
  {
   "cell_type": "markdown",
   "metadata": {},
   "source": [
    "# Data analysis and visualization"
   ]
  },
  {
   "cell_type": "code",
   "execution_count": null,
   "metadata": {},
   "outputs": [],
   "source": [
    "print(actual_data.isnull().sum())"
   ]
  },
  {
   "cell_type": "code",
   "execution_count": null,
   "metadata": {},
   "outputs": [],
   "source": [
    "plt.rcParams[\"figure.figsize\"]=25,10"
   ]
  },
  {
   "cell_type": "code",
   "execution_count": null,
   "metadata": {},
   "outputs": [],
   "source": [
    "sns.swarmplot(x='Food Group',y='Calories',data=actual_data,palette='Set2')"
   ]
  },
  {
   "cell_type": "code",
   "execution_count": null,
   "metadata": {},
   "outputs": [],
   "source": [
    "sns.countplot(x='Food Group',data=actual_data)"
   ]
  },
  {
   "cell_type": "markdown",
   "metadata": {},
   "source": [
    "# Removing unwanted columns"
   ]
  },
  {
   "cell_type": "code",
   "execution_count": null,
   "metadata": {},
   "outputs": [],
   "source": [
    "data = pd.read_csv('food_cal.csv')"
   ]
  },
  {
   "cell_type": "code",
   "execution_count": null,
   "metadata": {
    "scrolled": true
   },
   "outputs": [],
   "source": [
    "data.head()"
   ]
  },
  {
   "cell_type": "code",
   "execution_count": null,
   "metadata": {
    "scrolled": true
   },
   "outputs": [],
   "source": [
    "data.describe()"
   ]
  },
  {
   "cell_type": "code",
   "execution_count": null,
   "metadata": {
    "scrolled": true
   },
   "outputs": [],
   "source": [
    "sns.pairplot(data)"
   ]
  },
  {
   "cell_type": "code",
   "execution_count": null,
   "metadata": {},
   "outputs": [],
   "source": []
  },
  {
   "cell_type": "code",
   "execution_count": null,
   "metadata": {},
   "outputs": [],
   "source": [
    "sns.distplot(data['Calories'])"
   ]
  },
  {
   "cell_type": "code",
   "execution_count": null,
   "metadata": {},
   "outputs": [],
   "source": [
    "sns.heatmap(data.corr())"
   ]
  },
  {
   "cell_type": "code",
   "execution_count": null,
   "metadata": {
    "scrolled": false
   },
   "outputs": [],
   "source": [
    "inputdata = pd.read_csv('inputdata.csv')\n",
    "inputdata.head()"
   ]
  },
  {
   "cell_type": "code",
   "execution_count": null,
   "metadata": {},
   "outputs": [],
   "source": [
    "inputdata.describe()"
   ]
  },
  {
   "cell_type": "markdown",
   "metadata": {},
   "source": [
    "# cleaning data"
   ]
  },
  {
   "cell_type": "code",
   "execution_count": null,
   "metadata": {
    "scrolled": true
   },
   "outputs": [],
   "source": [
    "data= data[data['Calories'] != 0] #Removing unwanted data where calories is null\n",
    "data.describe()"
   ]
  },
  {
   "cell_type": "markdown",
   "metadata": {},
   "source": [
    "# Training the model"
   ]
  },
  {
   "cell_type": "code",
   "execution_count": null,
   "metadata": {
    "scrolled": true
   },
   "outputs": [],
   "source": [
    "x = inputdata[['gender', 'Age', 'Height', 'weight']]\n",
    "y = inputdata['calories']"
   ]
  },
  {
   "cell_type": "code",
   "execution_count": null,
   "metadata": {
    "scrolled": true
   },
   "outputs": [],
   "source": [
    "from sklearn.model_selection import train_test_split\n",
    "splitRatio = 0.1\n",
    "\n",
    "x_train, x_test, y_train, y_test = train_test_split(x, y, test_size = splitRatio,random_state = 0)\n"
   ]
  },
  {
   "cell_type": "code",
   "execution_count": null,
   "metadata": {},
   "outputs": [],
   "source": [
    "from sklearn.linear_model import LinearRegression\n",
    "from sklearn.metrics import r2_score\n",
    "new=LinearRegression()\n",
    "new.fit(x_train,y_train)\n",
    "y_pred=new.predict(x_test)"
   ]
  },
  {
   "cell_type": "code",
   "execution_count": null,
   "metadata": {},
   "outputs": [],
   "source": [
    "plt.scatter(y_test,y_pred)\n",
    "plt.xlabel('Y Test')\n",
    "plt.ylabel('Predicted Y')"
   ]
  },
  {
   "cell_type": "code",
   "execution_count": null,
   "metadata": {},
   "outputs": [],
   "source": [
    "print('Variance score: %.2f' % r2_score(y_test, y_pred))"
   ]
  },
  {
   "cell_type": "code",
   "execution_count": null,
   "metadata": {},
   "outputs": [],
   "source": [
    "from sklearn import metrics\n",
    "\n",
    "print('MAE:', metrics.mean_absolute_error(y_test, y_pred))\n",
    "print('MSE:', metrics.mean_squared_error(y_test, y_pred))\n",
    "print('RMSE:', np.sqrt(metrics.mean_squared_error(y_test, y_pred)))"
   ]
  },
  {
   "cell_type": "markdown",
   "metadata": {},
   "source": [
    "# Asking user for input"
   ]
  },
  {
   "cell_type": "code",
   "execution_count": null,
   "metadata": {},
   "outputs": [],
   "source": [
    "Gender= input('Enter your Gender, 0 for male and 1 for female: ')\n",
    "Age = input(\"Enter your age: \")\n",
    "Height = input(\"Enter your Height in cm: \")\n",
    "Weight = input(\"Enter your Weight in Kg: \")\n",
    "ls = [Gender, Age, Height, Weight]\n",
    "new_df = pd.DataFrame([ls])"
   ]
  },
  {
   "cell_type": "code",
   "execution_count": null,
   "metadata": {},
   "outputs": [],
   "source": [
    "prediction = new.predict(new_df)\n",
    "print(prediction.astype(int))\n",
    "predicted = prediction.astype(int)\n",
    "\n"
   ]
  },
  {
   "cell_type": "code",
   "execution_count": null,
   "metadata": {},
   "outputs": [],
   "source": [
    "\n",
    "breakfast = data.loc[(data['Food Group'] == 'Breakfast Cereals') | (data['Food Group'] == 'Baverages') | (data['Food Group'] == 'Baby Foods')]\n",
    "\n",
    "lunch = data.loc[(data['Food Group'] == 'Baked Foods') | (data['Food Group'] == 'Fast Foods') | (data['Food Group'] == 'Restaurant Foods') | (data['Food Group'] == 'Fats and Oils') | \n",
    "                (data['Food Group'] == 'Soups and Sauces') | (data['Food Group'] == 'Beans and Lentils') | (data['Food Group'] == 'Grains and Pasta')]\n",
    "\n",
    "dinner = data.loc[(data['Food Group'] == 'Baked Foods') | (data['Food Group'] == 'American Idian') | (data['Food Group'] == 'Fast Foods') | (data['Food Group'] == 'Beans and Lentils') |\n",
    "                 (data['Food Group'] == 'Soups and Sauces') | (data['Food Group'] == 'Prepared Meals')]\n",
    "\n",
    "snacks = data.loc[(data['Food Group'] == 'Snacks') | (data['Food Group'] == 'Sweets')]\n",
    "\n",
    "fruits = data.loc[(data['Food Group'] == 'Fruits') | (data['Food Group'] == 'Nuts and Seeds')]\n",
    "\n",
    "meat = data.loc[(data['Food Group'] == 'Meats') | (data['Food Group'] == 'Dairy and Egg Products') | (data['Food Group'] == 'Fish')]\n",
    "\n",
    "vegetables = data.loc[data['Food Group'] == 'Vegetables']\n",
    "\n",
    "import random \n",
    "# n = random.randint(0, 100)\n",
    "# m = random.randint(4143, 20000)\n",
    "\n",
    "for a in predicted:\n",
    "    amr = input('Enter the exercise you perform daily: \\n')\n",
    "    if amr == 'Sedentary (little or no exercise)':\n",
    "        cal = a * 1.2\n",
    "    elif amr == 'Lightly active (1-3 days/week)':\n",
    "        cal = a * 1.375\n",
    "    elif amr == 'Moderately active (3-5 days/week)':\n",
    "        cal = a * 1.55\n",
    "    elif amr == 'Very active (6-7 days/week)':\n",
    "        cal = a * 1.725\n",
    "    elif amr == 'Super active (twice/day)':\n",
    "        cal = a * 1.9\n",
    "    else: cal = a\n",
    "    b = (22/100)*cal\n",
    "    l = (24/100)*cal\n",
    "    d = (26/100)*cal\n",
    "    s = (14/100)*cal\n",
    "    f = (8/100)*cal\n",
    "    m = (4/100)*cal\n",
    "    v = (2/100)*cal\n",
    "#     print(b +l+d+s+f+m)\n",
    "\n",
    "    bf = breakfast.loc[breakfast['Calories'] <= b]\n",
    "    suggest_bf = bf.loc[:,'name']\n",
    "    \n",
    "    fts =fruits.loc[fruits['Calories'] <= f]\n",
    "    suggest_fruits = fts.loc[:, 'name']\n",
    "    \n",
    "    lch = lunch.loc[lunch.Calories <= l]\n",
    "    suggest_lch = lch.loc[:, 'name']\n",
    "    \n",
    "    dn = dinner.loc[dinner.Calories <= d]\n",
    "    suggest_dn = dn.loc[:, 'name']\n",
    "    \n",
    "    snck = snacks.loc[snacks.Calories <= s]\n",
    "    suggest_snck = snck.loc[:, 'name']\n",
    "    \n",
    "    mts = meat.loc[meat.Calories <= m]\n",
    "    suggest_mts = mts.loc[:, 'name']\n",
    "    \n",
    "    vgtbles = vegetables.loc[vegetables.Calories <= v]\n",
    "    suggest_vgtbles = vgtbles.loc[:, 'name']\n",
    "    \n",
    "    bf_lst = []\n",
    "    fruit_lst  = []\n",
    "    lch_lst = []\n",
    "    dn_lst = []\n",
    "    snck_lst = []\n",
    "    mts_lst = []\n",
    "    vgtbles_lst =[]\n",
    "    \n",
    "    for ft in suggest_fruits:\n",
    "        fruit_lst.append(ft)\n",
    "        \n",
    "    for bfs in suggest_bf:\n",
    "        bf_lst.append(bfs)\n",
    "    \n",
    "    for lchs in suggest_lch:\n",
    "        lch_lst.append(lchs)\n",
    "        \n",
    "    for dns in suggest_dn:\n",
    "        dn_lst.append(dns)\n",
    "        \n",
    "    for sncks in suggest_snck:\n",
    "        snck_lst.append(sncks)\n",
    "        \n",
    "    for mt in suggest_mts:\n",
    "        mts_lst.append(mt)\n",
    "        \n",
    "    for vgt in suggest_vgtbles:\n",
    "        vgtbles_lst.append(vgt)\n",
    "        \n",
    "    print(len(fruit_lst), len(bf_lst), len(lch_lst), len(dn_lst), len(snck_lst), len(mts_lst), len(vgtbles_lst))\n",
    "# #     print(lst_from_suggested)\n",
    "\n",
    "    fruit_to_suggest = fruit_lst[random.randint(0, 100)]\n",
    "    Breakfast_to_suggest = bf_lst[random.randint(0, 600)]\n",
    "    lunch_to_suggest = lch_lst[random.randint(0, 1000)]\n",
    "    dinner_to_suggest = dn_lst[random.randint(0, 2000)]\n",
    "    snacks_to_suggest = snck_lst[random.randint(0, 100)]\n",
    "    meat_to_suggest = mts_lst[random.randint(0, 8)]\n",
    "    vegetables_to_suggest = vgtbles_lst[random.randint(0, 150)]\n",
    "    \n",
    "    print('\\n''\\033[1m' + 'Recommended diet' + '\\033[0m''\\n')\n",
    "    print(f'Breakfast: {Breakfast_to_suggest} + {fruit_lst[random.randint(0, 80)]}\\n')\n",
    "    print(f'Lunch: {lunch_to_suggest} + {mts_lst[random.randint(5, 8)]} + {fruit_lst[random.randint(81, 160)]} + {vgtbles_lst[random.randint(101, 153)]}\\n')\n",
    "    print(f'Snacks 1: {snck_lst[random.randint(0, 50)]}\\n')\n",
    "    print(f'Dinner: {dinner_to_suggest} + {mts_lst[random.randint(0, 4)]} + {vgtbles_lst[random.randint(0, 100)]} +{fruit_lst[random.randint(161, 270)]}\\n')\n",
    "    print(f'Snacks 2: {snck_lst[random.randint(51, 110)]}\\n')\n",
    "# #     print(suggested)\n",
    "# #     print(suggest.loc[suggest['Food Group'] == 'Breakfast Cereals'])\n",
    "#     bf_lst = [4143, 4145, 4147, 4150, 4154]\n",
    "#     for l in bf_lst:\n",
    "#         bf = suggest.loc[l, 'name']\n",
    "#         print(bf)"
   ]
  },
  {
   "cell_type": "code",
   "execution_count": null,
   "metadata": {},
   "outputs": [],
   "source": []
  },
  {
   "cell_type": "code",
   "execution_count": null,
   "metadata": {},
   "outputs": [],
   "source": [
    "#bf"
   ]
  },
  {
   "cell_type": "code",
   "execution_count": null,
   "metadata": {},
   "outputs": [],
   "source": []
  }
 ],
 "metadata": {
  "kernelspec": {
   "display_name": "Python 3",
   "language": "python",
   "name": "python3"
  },
  "language_info": {
   "codemirror_mode": {
    "name": "ipython",
    "version": 3
   },
   "file_extension": ".py",
   "mimetype": "text/x-python",
   "name": "python",
   "nbconvert_exporter": "python",
   "pygments_lexer": "ipython3",
   "version": "3.8.8"
  }
 },
 "nbformat": 4,
 "nbformat_minor": 4
}
