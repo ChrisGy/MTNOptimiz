{
 "cells": [
  {
   "cell_type": "markdown",
   "metadata": {},
   "source": [
    "# Load data"
   ]
  },
  {
   "cell_type": "code",
   "execution_count": 4,
   "metadata": {},
   "outputs": [],
   "source": [
    "actual_data=pd.read_csv('fooddata.csv')"
   ]
  },
  {
   "cell_type": "code",
   "execution_count": 5,
   "metadata": {
    "scrolled": true
   },
   "outputs": [
    {
     "data": {
      "text/html": [
       "<div>\n",
       "<style scoped>\n",
       "    .dataframe tbody tr th:only-of-type {\n",
       "        vertical-align: middle;\n",
       "    }\n",
       "\n",
       "    .dataframe tbody tr th {\n",
       "        vertical-align: top;\n",
       "    }\n",
       "\n",
       "    .dataframe thead th {\n",
       "        text-align: right;\n",
       "    }\n",
       "</style>\n",
       "<table border=\"1\" class=\"dataframe\">\n",
       "  <thead>\n",
       "    <tr style=\"text-align: right;\">\n",
       "      <th></th>\n",
       "      <th>ID</th>\n",
       "      <th>name</th>\n",
       "      <th>Food Group</th>\n",
       "      <th>Calories</th>\n",
       "      <th>Fat (g)</th>\n",
       "      <th>Protein (g)</th>\n",
       "      <th>Carbohydrate (g)</th>\n",
       "      <th>Sugars (g)</th>\n",
       "      <th>Fiber (g)</th>\n",
       "      <th>Cholesterol (mg)</th>\n",
       "      <th>...</th>\n",
       "      <th>Serving Description 5 (g)</th>\n",
       "      <th>Serving Weight 6 (g)</th>\n",
       "      <th>Serving Description 6 (g)</th>\n",
       "      <th>Serving Weight 7 (g)</th>\n",
       "      <th>Serving Description 7 (g)</th>\n",
       "      <th>Serving Weight 8 (g)</th>\n",
       "      <th>Serving Description 8 (g)</th>\n",
       "      <th>Serving Weight 9 (g)</th>\n",
       "      <th>Serving Description 9 (g)</th>\n",
       "      <th>200 Calorie Weight (g)</th>\n",
       "    </tr>\n",
       "  </thead>\n",
       "  <tbody>\n",
       "    <tr>\n",
       "      <th>0</th>\n",
       "      <td>167512</td>\n",
       "      <td>Pillsbury Golden Layer Buttermilk Biscuits Art...</td>\n",
       "      <td>Baked Foods</td>\n",
       "      <td>307.0</td>\n",
       "      <td>13.24</td>\n",
       "      <td>5.88</td>\n",
       "      <td>41.18</td>\n",
       "      <td>5.88</td>\n",
       "      <td>1.2</td>\n",
       "      <td>0.0</td>\n",
       "      <td>...</td>\n",
       "      <td>NaN</td>\n",
       "      <td>NaN</td>\n",
       "      <td>NaN</td>\n",
       "      <td>NaN</td>\n",
       "      <td>NaN</td>\n",
       "      <td>NaN</td>\n",
       "      <td>NaN</td>\n",
       "      <td>NaN</td>\n",
       "      <td>NaN</td>\n",
       "      <td>65.147</td>\n",
       "    </tr>\n",
       "    <tr>\n",
       "      <th>1</th>\n",
       "      <td>167513</td>\n",
       "      <td>Pillsbury Cinnamon Rolls With Icing Refrigerat...</td>\n",
       "      <td>Baked Foods</td>\n",
       "      <td>330.0</td>\n",
       "      <td>11.27</td>\n",
       "      <td>4.34</td>\n",
       "      <td>53.42</td>\n",
       "      <td>21.34</td>\n",
       "      <td>1.4</td>\n",
       "      <td>0.0</td>\n",
       "      <td>...</td>\n",
       "      <td>NaN</td>\n",
       "      <td>NaN</td>\n",
       "      <td>NaN</td>\n",
       "      <td>NaN</td>\n",
       "      <td>NaN</td>\n",
       "      <td>NaN</td>\n",
       "      <td>NaN</td>\n",
       "      <td>NaN</td>\n",
       "      <td>NaN</td>\n",
       "      <td>60.606</td>\n",
       "    </tr>\n",
       "    <tr>\n",
       "      <th>2</th>\n",
       "      <td>167514</td>\n",
       "      <td>Kraft Foods Shake N Bake Original Recipe Coati...</td>\n",
       "      <td>Baked Foods</td>\n",
       "      <td>377.0</td>\n",
       "      <td>3.70</td>\n",
       "      <td>6.10</td>\n",
       "      <td>79.80</td>\n",
       "      <td>NaN</td>\n",
       "      <td>NaN</td>\n",
       "      <td>NaN</td>\n",
       "      <td>...</td>\n",
       "      <td>NaN</td>\n",
       "      <td>NaN</td>\n",
       "      <td>NaN</td>\n",
       "      <td>NaN</td>\n",
       "      <td>NaN</td>\n",
       "      <td>NaN</td>\n",
       "      <td>NaN</td>\n",
       "      <td>NaN</td>\n",
       "      <td>NaN</td>\n",
       "      <td>53.050</td>\n",
       "    </tr>\n",
       "    <tr>\n",
       "      <th>3</th>\n",
       "      <td>167515</td>\n",
       "      <td>George Weston Bakeries Thomas English Muffins</td>\n",
       "      <td>Baked Foods</td>\n",
       "      <td>232.0</td>\n",
       "      <td>1.80</td>\n",
       "      <td>8.00</td>\n",
       "      <td>46.00</td>\n",
       "      <td>NaN</td>\n",
       "      <td>NaN</td>\n",
       "      <td>NaN</td>\n",
       "      <td>...</td>\n",
       "      <td>NaN</td>\n",
       "      <td>NaN</td>\n",
       "      <td>NaN</td>\n",
       "      <td>NaN</td>\n",
       "      <td>NaN</td>\n",
       "      <td>NaN</td>\n",
       "      <td>NaN</td>\n",
       "      <td>NaN</td>\n",
       "      <td>NaN</td>\n",
       "      <td>86.207</td>\n",
       "    </tr>\n",
       "    <tr>\n",
       "      <th>4</th>\n",
       "      <td>167516</td>\n",
       "      <td>Waffles Buttermilk Frozen Ready-To-Heat</td>\n",
       "      <td>Baked Foods</td>\n",
       "      <td>273.0</td>\n",
       "      <td>9.22</td>\n",
       "      <td>6.58</td>\n",
       "      <td>41.05</td>\n",
       "      <td>4.30</td>\n",
       "      <td>2.2</td>\n",
       "      <td>15.0</td>\n",
       "      <td>...</td>\n",
       "      <td>NaN</td>\n",
       "      <td>NaN</td>\n",
       "      <td>NaN</td>\n",
       "      <td>NaN</td>\n",
       "      <td>NaN</td>\n",
       "      <td>NaN</td>\n",
       "      <td>NaN</td>\n",
       "      <td>NaN</td>\n",
       "      <td>NaN</td>\n",
       "      <td>73.260</td>\n",
       "    </tr>\n",
       "  </tbody>\n",
       "</table>\n",
       "<p>5 rows × 117 columns</p>\n",
       "</div>"
      ],
      "text/plain": [
       "       ID                                               name   Food Group  \\\n",
       "0  167512  Pillsbury Golden Layer Buttermilk Biscuits Art...  Baked Foods   \n",
       "1  167513  Pillsbury Cinnamon Rolls With Icing Refrigerat...  Baked Foods   \n",
       "2  167514  Kraft Foods Shake N Bake Original Recipe Coati...  Baked Foods   \n",
       "3  167515      George Weston Bakeries Thomas English Muffins  Baked Foods   \n",
       "4  167516            Waffles Buttermilk Frozen Ready-To-Heat  Baked Foods   \n",
       "\n",
       "   Calories  Fat (g)  Protein (g)  Carbohydrate (g)  Sugars (g)  Fiber (g)  \\\n",
       "0     307.0    13.24         5.88             41.18        5.88        1.2   \n",
       "1     330.0    11.27         4.34             53.42       21.34        1.4   \n",
       "2     377.0     3.70         6.10             79.80         NaN        NaN   \n",
       "3     232.0     1.80         8.00             46.00         NaN        NaN   \n",
       "4     273.0     9.22         6.58             41.05        4.30        2.2   \n",
       "\n",
       "   Cholesterol (mg)  ...  Serving Description 5 (g)  Serving Weight 6 (g)  \\\n",
       "0               0.0  ...                        NaN                   NaN   \n",
       "1               0.0  ...                        NaN                   NaN   \n",
       "2               NaN  ...                        NaN                   NaN   \n",
       "3               NaN  ...                        NaN                   NaN   \n",
       "4              15.0  ...                        NaN                   NaN   \n",
       "\n",
       "   Serving Description 6 (g)  Serving Weight 7 (g)  Serving Description 7 (g)  \\\n",
       "0                        NaN                   NaN                        NaN   \n",
       "1                        NaN                   NaN                        NaN   \n",
       "2                        NaN                   NaN                        NaN   \n",
       "3                        NaN                   NaN                        NaN   \n",
       "4                        NaN                   NaN                        NaN   \n",
       "\n",
       "   Serving Weight 8 (g)  Serving Description 8 (g)  Serving Weight 9 (g)  \\\n",
       "0                   NaN                        NaN                   NaN   \n",
       "1                   NaN                        NaN                   NaN   \n",
       "2                   NaN                        NaN                   NaN   \n",
       "3                   NaN                        NaN                   NaN   \n",
       "4                   NaN                        NaN                   NaN   \n",
       "\n",
       "   Serving Description 9 (g)  200 Calorie Weight (g)  \n",
       "0                        NaN                  65.147  \n",
       "1                        NaN                  60.606  \n",
       "2                        NaN                  53.050  \n",
       "3                        NaN                  86.207  \n",
       "4                        NaN                  73.260  \n",
       "\n",
       "[5 rows x 117 columns]"
      ]
     },
     "execution_count": 5,
     "metadata": {},
     "output_type": "execute_result"
    }
   ],
   "source": [
    "actual_data.head()"
   ]
  },
  {
   "cell_type": "code",
   "execution_count": 6,
   "metadata": {
    "scrolled": true
   },
   "outputs": [],
   "source": [
    "import pandas as pd\n",
    "import numpy as np\n",
    "import matplotlib.pyplot as plt\n",
    "import seaborn as sns\n",
    "%matplotlib inline "
   ]
  },
  {
   "cell_type": "code",
   "execution_count": 7,
   "metadata": {
    "scrolled": true
   },
   "outputs": [
    {
     "data": {
      "text/html": [
       "<div>\n",
       "<style scoped>\n",
       "    .dataframe tbody tr th:only-of-type {\n",
       "        vertical-align: middle;\n",
       "    }\n",
       "\n",
       "    .dataframe tbody tr th {\n",
       "        vertical-align: top;\n",
       "    }\n",
       "\n",
       "    .dataframe thead th {\n",
       "        text-align: right;\n",
       "    }\n",
       "</style>\n",
       "<table border=\"1\" class=\"dataframe\">\n",
       "  <thead>\n",
       "    <tr style=\"text-align: right;\">\n",
       "      <th></th>\n",
       "      <th>ID</th>\n",
       "      <th>Calories</th>\n",
       "      <th>Fat (g)</th>\n",
       "      <th>Protein (g)</th>\n",
       "      <th>Carbohydrate (g)</th>\n",
       "      <th>Sugars (g)</th>\n",
       "      <th>Fiber (g)</th>\n",
       "      <th>Cholesterol (mg)</th>\n",
       "      <th>Saturated Fats (g)</th>\n",
       "      <th>Calcium (mg)</th>\n",
       "      <th>...</th>\n",
       "      <th>Serving Weight 1 (g)</th>\n",
       "      <th>Serving Weight 2 (g)</th>\n",
       "      <th>Serving Weight 3 (g)</th>\n",
       "      <th>Serving Weight 4 (g)</th>\n",
       "      <th>Serving Weight 5 (g)</th>\n",
       "      <th>Serving Weight 6 (g)</th>\n",
       "      <th>Serving Weight 7 (g)</th>\n",
       "      <th>Serving Weight 8 (g)</th>\n",
       "      <th>Serving Weight 9 (g)</th>\n",
       "      <th>200 Calorie Weight (g)</th>\n",
       "    </tr>\n",
       "  </thead>\n",
       "  <tbody>\n",
       "    <tr>\n",
       "      <th>count</th>\n",
       "      <td>14164.000000</td>\n",
       "      <td>14164.000000</td>\n",
       "      <td>14164.000000</td>\n",
       "      <td>14164.000000</td>\n",
       "      <td>14164.000000</td>\n",
       "      <td>12378.000000</td>\n",
       "      <td>13602.000000</td>\n",
       "      <td>13765.000000</td>\n",
       "      <td>13821.000000</td>\n",
       "      <td>14079.000000</td>\n",
       "      <td>...</td>\n",
       "      <td>13625.000000</td>\n",
       "      <td>8098.000000</td>\n",
       "      <td>3652.000000</td>\n",
       "      <td>2576.000000</td>\n",
       "      <td>2103.000000</td>\n",
       "      <td>1504.000000</td>\n",
       "      <td>1116.000000</td>\n",
       "      <td>769.000000</td>\n",
       "      <td>706.000000</td>\n",
       "      <td>14125.000000</td>\n",
       "    </tr>\n",
       "    <tr>\n",
       "      <th>mean</th>\n",
       "      <td>447548.035866</td>\n",
       "      <td>194.151978</td>\n",
       "      <td>9.183089</td>\n",
       "      <td>10.119597</td>\n",
       "      <td>18.126399</td>\n",
       "      <td>6.373473</td>\n",
       "      <td>1.844758</td>\n",
       "      <td>39.483908</td>\n",
       "      <td>3.020328</td>\n",
       "      <td>69.108672</td>\n",
       "      <td>...</td>\n",
       "      <td>121.313306</td>\n",
       "      <td>206.987120</td>\n",
       "      <td>180.210077</td>\n",
       "      <td>150.900776</td>\n",
       "      <td>152.347979</td>\n",
       "      <td>141.771941</td>\n",
       "      <td>154.383065</td>\n",
       "      <td>147.713134</td>\n",
       "      <td>180.297606</td>\n",
       "      <td>260.567466</td>\n",
       "    </tr>\n",
       "    <tr>\n",
       "      <th>std</th>\n",
       "      <td>305426.062435</td>\n",
       "      <td>149.775561</td>\n",
       "      <td>13.454870</td>\n",
       "      <td>9.744744</td>\n",
       "      <td>22.227239</td>\n",
       "      <td>12.362457</td>\n",
       "      <td>3.397075</td>\n",
       "      <td>106.646348</td>\n",
       "      <td>5.395870</td>\n",
       "      <td>160.294003</td>\n",
       "      <td>...</td>\n",
       "      <td>112.435362</td>\n",
       "      <td>318.773175</td>\n",
       "      <td>288.311610</td>\n",
       "      <td>197.589935</td>\n",
       "      <td>191.426284</td>\n",
       "      <td>181.119765</td>\n",
       "      <td>191.152104</td>\n",
       "      <td>227.459574</td>\n",
       "      <td>280.548494</td>\n",
       "      <td>906.208292</td>\n",
       "    </tr>\n",
       "    <tr>\n",
       "      <th>min</th>\n",
       "      <td>167512.000000</td>\n",
       "      <td>0.000000</td>\n",
       "      <td>0.000000</td>\n",
       "      <td>0.000000</td>\n",
       "      <td>0.000000</td>\n",
       "      <td>0.000000</td>\n",
       "      <td>0.000000</td>\n",
       "      <td>0.000000</td>\n",
       "      <td>0.000000</td>\n",
       "      <td>0.000000</td>\n",
       "      <td>...</td>\n",
       "      <td>0.000000</td>\n",
       "      <td>0.000000</td>\n",
       "      <td>0.000000</td>\n",
       "      <td>0.000000</td>\n",
       "      <td>0.000000</td>\n",
       "      <td>0.000000</td>\n",
       "      <td>0.000000</td>\n",
       "      <td>0.000000</td>\n",
       "      <td>2.000000</td>\n",
       "      <td>22.173000</td>\n",
       "    </tr>\n",
       "    <tr>\n",
       "      <th>25%</th>\n",
       "      <td>171052.750000</td>\n",
       "      <td>80.000000</td>\n",
       "      <td>1.637500</td>\n",
       "      <td>2.190000</td>\n",
       "      <td>2.200000</td>\n",
       "      <td>0.270000</td>\n",
       "      <td>0.000000</td>\n",
       "      <td>0.000000</td>\n",
       "      <td>0.403000</td>\n",
       "      <td>12.000000</td>\n",
       "      <td>...</td>\n",
       "      <td>31.000000</td>\n",
       "      <td>35.000000</td>\n",
       "      <td>31.000000</td>\n",
       "      <td>30.000000</td>\n",
       "      <td>24.500000</td>\n",
       "      <td>25.750000</td>\n",
       "      <td>28.000000</td>\n",
       "      <td>18.000000</td>\n",
       "      <td>21.250000</td>\n",
       "      <td>74.349000</td>\n",
       "    </tr>\n",
       "    <tr>\n",
       "      <th>50%</th>\n",
       "      <td>174593.500000</td>\n",
       "      <td>158.000000</td>\n",
       "      <td>4.840000</td>\n",
       "      <td>6.870000</td>\n",
       "      <td>9.850000</td>\n",
       "      <td>1.880000</td>\n",
       "      <td>0.900000</td>\n",
       "      <td>7.000000</td>\n",
       "      <td>1.438000</td>\n",
       "      <td>27.000000</td>\n",
       "      <td>...</td>\n",
       "      <td>93.000000</td>\n",
       "      <td>130.000000</td>\n",
       "      <td>103.000000</td>\n",
       "      <td>110.000000</td>\n",
       "      <td>107.000000</td>\n",
       "      <td>82.000000</td>\n",
       "      <td>120.000000</td>\n",
       "      <td>59.000000</td>\n",
       "      <td>33.500000</td>\n",
       "      <td>125.786000</td>\n",
       "    </tr>\n",
       "    <tr>\n",
       "      <th>75%</th>\n",
       "      <td>784718.250000</td>\n",
       "      <td>269.000000</td>\n",
       "      <td>11.890000</td>\n",
       "      <td>16.872500</td>\n",
       "      <td>22.882500</td>\n",
       "      <td>5.650000</td>\n",
       "      <td>2.300000</td>\n",
       "      <td>62.000000</td>\n",
       "      <td>3.667000</td>\n",
       "      <td>74.000000</td>\n",
       "      <td>...</td>\n",
       "      <td>175.000000</td>\n",
       "      <td>248.000000</td>\n",
       "      <td>236.250000</td>\n",
       "      <td>175.000000</td>\n",
       "      <td>185.500000</td>\n",
       "      <td>171.000000</td>\n",
       "      <td>185.000000</td>\n",
       "      <td>161.000000</td>\n",
       "      <td>170.000000</td>\n",
       "      <td>246.914000</td>\n",
       "    </tr>\n",
       "    <tr>\n",
       "      <th>max</th>\n",
       "      <td>789770.000000</td>\n",
       "      <td>902.000000</td>\n",
       "      <td>100.000000</td>\n",
       "      <td>88.320000</td>\n",
       "      <td>100.000000</td>\n",
       "      <td>99.800000</td>\n",
       "      <td>79.000000</td>\n",
       "      <td>3100.000000</td>\n",
       "      <td>95.600000</td>\n",
       "      <td>7364.000000</td>\n",
       "      <td>...</td>\n",
       "      <td>1836.000000</td>\n",
       "      <td>5717.000000</td>\n",
       "      <td>4518.000000</td>\n",
       "      <td>2048.000000</td>\n",
       "      <td>1896.000000</td>\n",
       "      <td>1524.000000</td>\n",
       "      <td>1800.000000</td>\n",
       "      <td>1351.000000</td>\n",
       "      <td>1384.000000</td>\n",
       "      <td>20000.000000</td>\n",
       "    </tr>\n",
       "  </tbody>\n",
       "</table>\n",
       "<p>8 rows × 106 columns</p>\n",
       "</div>"
      ],
      "text/plain": [
       "                  ID      Calories       Fat (g)   Protein (g)  \\\n",
       "count   14164.000000  14164.000000  14164.000000  14164.000000   \n",
       "mean   447548.035866    194.151978      9.183089     10.119597   \n",
       "std    305426.062435    149.775561     13.454870      9.744744   \n",
       "min    167512.000000      0.000000      0.000000      0.000000   \n",
       "25%    171052.750000     80.000000      1.637500      2.190000   \n",
       "50%    174593.500000    158.000000      4.840000      6.870000   \n",
       "75%    784718.250000    269.000000     11.890000     16.872500   \n",
       "max    789770.000000    902.000000    100.000000     88.320000   \n",
       "\n",
       "       Carbohydrate (g)    Sugars (g)     Fiber (g)  Cholesterol (mg)  \\\n",
       "count      14164.000000  12378.000000  13602.000000      13765.000000   \n",
       "mean          18.126399      6.373473      1.844758         39.483908   \n",
       "std           22.227239     12.362457      3.397075        106.646348   \n",
       "min            0.000000      0.000000      0.000000          0.000000   \n",
       "25%            2.200000      0.270000      0.000000          0.000000   \n",
       "50%            9.850000      1.880000      0.900000          7.000000   \n",
       "75%           22.882500      5.650000      2.300000         62.000000   \n",
       "max          100.000000     99.800000     79.000000       3100.000000   \n",
       "\n",
       "       Saturated Fats (g)  Calcium (mg)  ...  Serving Weight 1 (g)  \\\n",
       "count        13821.000000  14079.000000  ...          13625.000000   \n",
       "mean             3.020328     69.108672  ...            121.313306   \n",
       "std              5.395870    160.294003  ...            112.435362   \n",
       "min              0.000000      0.000000  ...              0.000000   \n",
       "25%              0.403000     12.000000  ...             31.000000   \n",
       "50%              1.438000     27.000000  ...             93.000000   \n",
       "75%              3.667000     74.000000  ...            175.000000   \n",
       "max             95.600000   7364.000000  ...           1836.000000   \n",
       "\n",
       "       Serving Weight 2 (g)  Serving Weight 3 (g)  Serving Weight 4 (g)  \\\n",
       "count           8098.000000           3652.000000           2576.000000   \n",
       "mean             206.987120            180.210077            150.900776   \n",
       "std              318.773175            288.311610            197.589935   \n",
       "min                0.000000              0.000000              0.000000   \n",
       "25%               35.000000             31.000000             30.000000   \n",
       "50%              130.000000            103.000000            110.000000   \n",
       "75%              248.000000            236.250000            175.000000   \n",
       "max             5717.000000           4518.000000           2048.000000   \n",
       "\n",
       "       Serving Weight 5 (g)  Serving Weight 6 (g)  Serving Weight 7 (g)  \\\n",
       "count           2103.000000           1504.000000           1116.000000   \n",
       "mean             152.347979            141.771941            154.383065   \n",
       "std              191.426284            181.119765            191.152104   \n",
       "min                0.000000              0.000000              0.000000   \n",
       "25%               24.500000             25.750000             28.000000   \n",
       "50%              107.000000             82.000000            120.000000   \n",
       "75%              185.500000            171.000000            185.000000   \n",
       "max             1896.000000           1524.000000           1800.000000   \n",
       "\n",
       "       Serving Weight 8 (g)  Serving Weight 9 (g)  200 Calorie Weight (g)  \n",
       "count            769.000000            706.000000            14125.000000  \n",
       "mean             147.713134            180.297606              260.567466  \n",
       "std              227.459574            280.548494              906.208292  \n",
       "min                0.000000              2.000000               22.173000  \n",
       "25%               18.000000             21.250000               74.349000  \n",
       "50%               59.000000             33.500000              125.786000  \n",
       "75%              161.000000            170.000000              246.914000  \n",
       "max             1351.000000           1384.000000            20000.000000  \n",
       "\n",
       "[8 rows x 106 columns]"
      ]
     },
     "execution_count": 7,
     "metadata": {},
     "output_type": "execute_result"
    }
   ],
   "source": [
    "actual_data.describe()"
   ]
  },
  {
   "cell_type": "code",
   "execution_count": 8,
   "metadata": {},
   "outputs": [
    {
     "name": "stdout",
     "output_type": "stream",
     "text": [
      "<class 'pandas.core.frame.DataFrame'>\n",
      "RangeIndex: 14164 entries, 0 to 14163\n",
      "Columns: 117 entries, ID to 200 Calorie Weight (g)\n",
      "dtypes: float64(105), int64(1), object(11)\n",
      "memory usage: 12.6+ MB\n"
     ]
    }
   ],
   "source": [
    "actual_data.info()"
   ]
  },
  {
   "cell_type": "markdown",
   "metadata": {},
   "source": [
    "# Data analysis and visualization"
   ]
  },
  {
   "cell_type": "code",
   "execution_count": 9,
   "metadata": {},
   "outputs": [
    {
     "name": "stdout",
     "output_type": "stream",
     "text": [
      "ID                               0\n",
      "name                             0\n",
      "Food Group                     128\n",
      "Calories                         0\n",
      "Fat (g)                          0\n",
      "                             ...  \n",
      "Serving Weight 8 (g)         13395\n",
      "Serving Description 8 (g)    13395\n",
      "Serving Weight 9 (g)         13458\n",
      "Serving Description 9 (g)    13458\n",
      "200 Calorie Weight (g)          39\n",
      "Length: 117, dtype: int64\n"
     ]
    }
   ],
   "source": [
    "print(actual_data.isnull().sum())"
   ]
  },
  {
   "cell_type": "code",
   "execution_count": 10,
   "metadata": {},
   "outputs": [],
   "source": [
    "plt.rcParams[\"figure.figsize\"]=25,10"
   ]
  },
  {
   "cell_type": "code",
   "execution_count": null,
   "metadata": {},
   "outputs": [
    {
     "name": "stderr",
     "output_type": "stream",
     "text": [
      "C:\\Users\\defaultUser\\anaconda3\\lib\\site-packages\\seaborn\\categorical.py:1296: UserWarning: 59.5% of the points cannot be placed; you may want to decrease the size of the markers or use stripplot.\n",
      "  warnings.warn(msg, UserWarning)\n",
      "C:\\Users\\defaultUser\\anaconda3\\lib\\site-packages\\seaborn\\categorical.py:1296: UserWarning: 29.2% of the points cannot be placed; you may want to decrease the size of the markers or use stripplot.\n",
      "  warnings.warn(msg, UserWarning)\n",
      "C:\\Users\\defaultUser\\anaconda3\\lib\\site-packages\\seaborn\\categorical.py:1296: UserWarning: 18.3% of the points cannot be placed; you may want to decrease the size of the markers or use stripplot.\n",
      "  warnings.warn(msg, UserWarning)\n",
      "C:\\Users\\defaultUser\\anaconda3\\lib\\site-packages\\seaborn\\categorical.py:1296: UserWarning: 88.7% of the points cannot be placed; you may want to decrease the size of the markers or use stripplot.\n",
      "  warnings.warn(msg, UserWarning)\n",
      "C:\\Users\\defaultUser\\anaconda3\\lib\\site-packages\\seaborn\\categorical.py:1296: UserWarning: 61.4% of the points cannot be placed; you may want to decrease the size of the markers or use stripplot.\n",
      "  warnings.warn(msg, UserWarning)\n",
      "C:\\Users\\defaultUser\\anaconda3\\lib\\site-packages\\seaborn\\categorical.py:1296: UserWarning: 36.0% of the points cannot be placed; you may want to decrease the size of the markers or use stripplot.\n",
      "  warnings.warn(msg, UserWarning)\n"
     ]
    }
   ],
   "source": [
    "sns.swarmplot(x='Food Group',y='Calories',data=actual_data,palette='Set2')"
   ]
  },
  {
   "cell_type": "code",
   "execution_count": null,
   "metadata": {},
   "outputs": [],
   "source": [
    "sns.countplot(x='Food Group',data=actual_data)"
   ]
  },
  {
   "cell_type": "markdown",
   "metadata": {},
   "source": [
    "# Removing unwanted columns"
   ]
  },
  {
   "cell_type": "code",
   "execution_count": 9,
   "metadata": {},
   "outputs": [],
   "source": [
    "data = pd.read_csv('food_cal.csv')"
   ]
  },
  {
   "cell_type": "code",
   "execution_count": 10,
   "metadata": {
    "scrolled": true
   },
   "outputs": [
    {
     "data": {
      "text/html": [
       "<div>\n",
       "<style scoped>\n",
       "    .dataframe tbody tr th:only-of-type {\n",
       "        vertical-align: middle;\n",
       "    }\n",
       "\n",
       "    .dataframe tbody tr th {\n",
       "        vertical-align: top;\n",
       "    }\n",
       "\n",
       "    .dataframe thead th {\n",
       "        text-align: right;\n",
       "    }\n",
       "</style>\n",
       "<table border=\"1\" class=\"dataframe\">\n",
       "  <thead>\n",
       "    <tr style=\"text-align: right;\">\n",
       "      <th></th>\n",
       "      <th>ID</th>\n",
       "      <th>Calories</th>\n",
       "      <th>name</th>\n",
       "      <th>Food Group</th>\n",
       "    </tr>\n",
       "  </thead>\n",
       "  <tbody>\n",
       "    <tr>\n",
       "      <th>0</th>\n",
       "      <td>167512</td>\n",
       "      <td>307.0</td>\n",
       "      <td>Pillsbury Golden Layer Buttermilk Biscuits Art...</td>\n",
       "      <td>Baked Foods</td>\n",
       "    </tr>\n",
       "    <tr>\n",
       "      <th>1</th>\n",
       "      <td>167513</td>\n",
       "      <td>330.0</td>\n",
       "      <td>Pillsbury Cinnamon Rolls With Icing Refrigerat...</td>\n",
       "      <td>Baked Foods</td>\n",
       "    </tr>\n",
       "    <tr>\n",
       "      <th>2</th>\n",
       "      <td>167514</td>\n",
       "      <td>377.0</td>\n",
       "      <td>Kraft Foods Shake N Bake Original Recipe Coati...</td>\n",
       "      <td>Baked Foods</td>\n",
       "    </tr>\n",
       "    <tr>\n",
       "      <th>3</th>\n",
       "      <td>167515</td>\n",
       "      <td>232.0</td>\n",
       "      <td>George Weston Bakeries Thomas English Muffins</td>\n",
       "      <td>Baked Foods</td>\n",
       "    </tr>\n",
       "    <tr>\n",
       "      <th>4</th>\n",
       "      <td>167516</td>\n",
       "      <td>273.0</td>\n",
       "      <td>Waffles Buttermilk Frozen Ready-To-Heat</td>\n",
       "      <td>Baked Foods</td>\n",
       "    </tr>\n",
       "  </tbody>\n",
       "</table>\n",
       "</div>"
      ],
      "text/plain": [
       "       ID  Calories                                               name  \\\n",
       "0  167512     307.0  Pillsbury Golden Layer Buttermilk Biscuits Art...   \n",
       "1  167513     330.0  Pillsbury Cinnamon Rolls With Icing Refrigerat...   \n",
       "2  167514     377.0  Kraft Foods Shake N Bake Original Recipe Coati...   \n",
       "3  167515     232.0      George Weston Bakeries Thomas English Muffins   \n",
       "4  167516     273.0            Waffles Buttermilk Frozen Ready-To-Heat   \n",
       "\n",
       "    Food Group  \n",
       "0  Baked Foods  \n",
       "1  Baked Foods  \n",
       "2  Baked Foods  \n",
       "3  Baked Foods  \n",
       "4  Baked Foods  "
      ]
     },
     "execution_count": 10,
     "metadata": {},
     "output_type": "execute_result"
    }
   ],
   "source": [
    "data.head()"
   ]
  },
  {
   "cell_type": "code",
   "execution_count": 11,
   "metadata": {
    "scrolled": true
   },
   "outputs": [
    {
     "data": {
      "text/html": [
       "<div>\n",
       "<style scoped>\n",
       "    .dataframe tbody tr th:only-of-type {\n",
       "        vertical-align: middle;\n",
       "    }\n",
       "\n",
       "    .dataframe tbody tr th {\n",
       "        vertical-align: top;\n",
       "    }\n",
       "\n",
       "    .dataframe thead th {\n",
       "        text-align: right;\n",
       "    }\n",
       "</style>\n",
       "<table border=\"1\" class=\"dataframe\">\n",
       "  <thead>\n",
       "    <tr style=\"text-align: right;\">\n",
       "      <th></th>\n",
       "      <th>ID</th>\n",
       "      <th>Calories</th>\n",
       "    </tr>\n",
       "  </thead>\n",
       "  <tbody>\n",
       "    <tr>\n",
       "      <th>count</th>\n",
       "      <td>14164.000000</td>\n",
       "      <td>14164.000000</td>\n",
       "    </tr>\n",
       "    <tr>\n",
       "      <th>mean</th>\n",
       "      <td>447548.035866</td>\n",
       "      <td>194.151978</td>\n",
       "    </tr>\n",
       "    <tr>\n",
       "      <th>std</th>\n",
       "      <td>305426.062435</td>\n",
       "      <td>149.775561</td>\n",
       "    </tr>\n",
       "    <tr>\n",
       "      <th>min</th>\n",
       "      <td>167512.000000</td>\n",
       "      <td>0.000000</td>\n",
       "    </tr>\n",
       "    <tr>\n",
       "      <th>25%</th>\n",
       "      <td>171052.750000</td>\n",
       "      <td>80.000000</td>\n",
       "    </tr>\n",
       "    <tr>\n",
       "      <th>50%</th>\n",
       "      <td>174593.500000</td>\n",
       "      <td>158.000000</td>\n",
       "    </tr>\n",
       "    <tr>\n",
       "      <th>75%</th>\n",
       "      <td>784718.250000</td>\n",
       "      <td>269.000000</td>\n",
       "    </tr>\n",
       "    <tr>\n",
       "      <th>max</th>\n",
       "      <td>789770.000000</td>\n",
       "      <td>902.000000</td>\n",
       "    </tr>\n",
       "  </tbody>\n",
       "</table>\n",
       "</div>"
      ],
      "text/plain": [
       "                  ID      Calories\n",
       "count   14164.000000  14164.000000\n",
       "mean   447548.035866    194.151978\n",
       "std    305426.062435    149.775561\n",
       "min    167512.000000      0.000000\n",
       "25%    171052.750000     80.000000\n",
       "50%    174593.500000    158.000000\n",
       "75%    784718.250000    269.000000\n",
       "max    789770.000000    902.000000"
      ]
     },
     "execution_count": 11,
     "metadata": {},
     "output_type": "execute_result"
    }
   ],
   "source": [
    "data.describe()"
   ]
  },
  {
   "cell_type": "code",
   "execution_count": 12,
   "metadata": {
    "scrolled": true
   },
   "outputs": [
    {
     "data": {
      "text/plain": [
       "<seaborn.axisgrid.PairGrid at 0x232a94976d0>"
      ]
     },
     "execution_count": 12,
     "metadata": {},
     "output_type": "execute_result"
    },
    {
     "data": {
      "image/png": "[encoded data removed]",
      "text/plain": [
       "<Figure size 360x360 with 6 Axes>"
      ]
     },
     "metadata": {
      "needs_background": "light"
     },
     "output_type": "display_data"
    }
   ],
   "source": [
    "sns.pairplot(data)"
   ]
  },
  {
   "cell_type": "code",
   "execution_count": 13,
   "metadata": {},
   "outputs": [
    {
     "name": "stderr",
     "output_type": "stream",
     "text": [
      "C:\\Users\\Yakubu Abdul-Baaki\\anaconda3\\lib\\site-packages\\seaborn\\distributions.py:2551: FutureWarning: `distplot` is a deprecated function and will be removed in a future version. Please adapt your code to use either `displot` (a figure-level function with similar flexibility) or `histplot` (an axes-level function for histograms).\n",
      "  warnings.warn(msg, FutureWarning)\n"
     ]
    },
    {
     "data": {
      "text/plain": [
       "<AxesSubplot:xlabel='Calories', ylabel='Density'>"
      ]
     },
     "execution_count": 13,
     "metadata": {},
     "output_type": "execute_result"
    },
    {
     "data": {
      "image/png": "[encoded data removed]",
      "text/plain": [
       "<Figure size 1800x720 with 1 Axes>"
      ]
     },
     "metadata": {
      "needs_background": "light"
     },
     "output_type": "display_data"
    }
   ],
   "source": [
    "sns.distplot(data['Calories'])"
   ]
  },
  {
   "cell_type": "code",
   "execution_count": 14,
   "metadata": {},
   "outputs": [
    {
     "data": {
      "text/plain": [
       "<AxesSubplot:>"
      ]
     },
     "execution_count": 14,
     "metadata": {},
     "output_type": "execute_result"
    },
    {
     "data": {
      "image/png": "[encoded data removed]",
      "text/plain": [
       "<Figure size 1800x720 with 2 Axes>"
      ]
     },
     "metadata": {
      "needs_background": "light"
     },
     "output_type": "display_data"
    }
   ],
   "source": [
    "sns.heatmap(data.corr())"
   ]
  },
  {
   "cell_type": "code",
   "execution_count": 15,
   "metadata": {
    "scrolled": false
   },
   "outputs": [
    {
     "data": {
      "text/html": [
       "<div>\n",
       "<style scoped>\n",
       "    .dataframe tbody tr th:only-of-type {\n",
       "        vertical-align: middle;\n",
       "    }\n",
       "\n",
       "    .dataframe tbody tr th {\n",
       "        vertical-align: top;\n",
       "    }\n",
       "\n",
       "    .dataframe thead th {\n",
       "        text-align: right;\n",
       "    }\n",
       "</style>\n",
       "<table border=\"1\" class=\"dataframe\">\n",
       "  <thead>\n",
       "    <tr style=\"text-align: right;\">\n",
       "      <th></th>\n",
       "      <th>gender</th>\n",
       "      <th>Age</th>\n",
       "      <th>Height</th>\n",
       "      <th>weight</th>\n",
       "      <th>calories</th>\n",
       "    </tr>\n",
       "  </thead>\n",
       "  <tbody>\n",
       "    <tr>\n",
       "      <th>0</th>\n",
       "      <td>0</td>\n",
       "      <td>41</td>\n",
       "      <td>171</td>\n",
       "      <td>60</td>\n",
       "      <td>1470.028</td>\n",
       "    </tr>\n",
       "    <tr>\n",
       "      <th>1</th>\n",
       "      <td>0</td>\n",
       "      <td>32</td>\n",
       "      <td>174</td>\n",
       "      <td>103</td>\n",
       "      <td>2137.082</td>\n",
       "    </tr>\n",
       "    <tr>\n",
       "      <th>2</th>\n",
       "      <td>0</td>\n",
       "      <td>22</td>\n",
       "      <td>159</td>\n",
       "      <td>58</td>\n",
       "      <td>1510.837</td>\n",
       "    </tr>\n",
       "    <tr>\n",
       "      <th>3</th>\n",
       "      <td>0</td>\n",
       "      <td>46</td>\n",
       "      <td>192</td>\n",
       "      <td>60</td>\n",
       "      <td>1541.316</td>\n",
       "    </tr>\n",
       "    <tr>\n",
       "      <th>4</th>\n",
       "      <td>0</td>\n",
       "      <td>55</td>\n",
       "      <td>170</td>\n",
       "      <td>64</td>\n",
       "      <td>1425.455</td>\n",
       "    </tr>\n",
       "  </tbody>\n",
       "</table>\n",
       "</div>"
      ],
      "text/plain": [
       "   gender  Age  Height  weight  calories\n",
       "0       0   41     171      60  1470.028\n",
       "1       0   32     174     103  2137.082\n",
       "2       0   22     159      58  1510.837\n",
       "3       0   46     192      60  1541.316\n",
       "4       0   55     170      64  1425.455"
      ]
     },
     "execution_count": 15,
     "metadata": {},
     "output_type": "execute_result"
    }
   ],
   "source": [
    "inputdata = pd.read_csv('inputdata.csv')\n",
    "inputdata.head()"
   ]
  },
  {
   "cell_type": "code",
   "execution_count": 16,
   "metadata": {},
   "outputs": [
    {
     "data": {
      "text/html": [
       "<div>\n",
       "<style scoped>\n",
       "    .dataframe tbody tr th:only-of-type {\n",
       "        vertical-align: middle;\n",
       "    }\n",
       "\n",
       "    .dataframe tbody tr th {\n",
       "        vertical-align: top;\n",
       "    }\n",
       "\n",
       "    .dataframe thead th {\n",
       "        text-align: right;\n",
       "    }\n",
       "</style>\n",
       "<table border=\"1\" class=\"dataframe\">\n",
       "  <thead>\n",
       "    <tr style=\"text-align: right;\">\n",
       "      <th></th>\n",
       "      <th>gender</th>\n",
       "      <th>Age</th>\n",
       "      <th>Height</th>\n",
       "      <th>weight</th>\n",
       "      <th>calories</th>\n",
       "    </tr>\n",
       "  </thead>\n",
       "  <tbody>\n",
       "    <tr>\n",
       "      <th>count</th>\n",
       "      <td>78.000000</td>\n",
       "      <td>78.000000</td>\n",
       "      <td>78.000000</td>\n",
       "      <td>78.000000</td>\n",
       "      <td>78.000000</td>\n",
       "    </tr>\n",
       "    <tr>\n",
       "      <th>mean</th>\n",
       "      <td>0.423077</td>\n",
       "      <td>39.153846</td>\n",
       "      <td>170.820513</td>\n",
       "      <td>72.525641</td>\n",
       "      <td>1563.724718</td>\n",
       "    </tr>\n",
       "    <tr>\n",
       "      <th>std</th>\n",
       "      <td>0.497245</td>\n",
       "      <td>9.815277</td>\n",
       "      <td>11.276621</td>\n",
       "      <td>8.723344</td>\n",
       "      <td>110.339823</td>\n",
       "    </tr>\n",
       "    <tr>\n",
       "      <th>min</th>\n",
       "      <td>0.000000</td>\n",
       "      <td>16.000000</td>\n",
       "      <td>141.000000</td>\n",
       "      <td>58.000000</td>\n",
       "      <td>1342.603000</td>\n",
       "    </tr>\n",
       "    <tr>\n",
       "      <th>25%</th>\n",
       "      <td>0.000000</td>\n",
       "      <td>32.250000</td>\n",
       "      <td>164.250000</td>\n",
       "      <td>66.000000</td>\n",
       "      <td>1486.623000</td>\n",
       "    </tr>\n",
       "    <tr>\n",
       "      <th>50%</th>\n",
       "      <td>0.000000</td>\n",
       "      <td>39.000000</td>\n",
       "      <td>169.500000</td>\n",
       "      <td>72.000000</td>\n",
       "      <td>1554.035500</td>\n",
       "    </tr>\n",
       "    <tr>\n",
       "      <th>75%</th>\n",
       "      <td>1.000000</td>\n",
       "      <td>46.750000</td>\n",
       "      <td>174.750000</td>\n",
       "      <td>78.000000</td>\n",
       "      <td>1611.509750</td>\n",
       "    </tr>\n",
       "    <tr>\n",
       "      <th>max</th>\n",
       "      <td>1.000000</td>\n",
       "      <td>60.000000</td>\n",
       "      <td>201.000000</td>\n",
       "      <td>103.000000</td>\n",
       "      <td>2137.082000</td>\n",
       "    </tr>\n",
       "  </tbody>\n",
       "</table>\n",
       "</div>"
      ],
      "text/plain": [
       "          gender        Age      Height      weight     calories\n",
       "count  78.000000  78.000000   78.000000   78.000000    78.000000\n",
       "mean    0.423077  39.153846  170.820513   72.525641  1563.724718\n",
       "std     0.497245   9.815277   11.276621    8.723344   110.339823\n",
       "min     0.000000  16.000000  141.000000   58.000000  1342.603000\n",
       "25%     0.000000  32.250000  164.250000   66.000000  1486.623000\n",
       "50%     0.000000  39.000000  169.500000   72.000000  1554.035500\n",
       "75%     1.000000  46.750000  174.750000   78.000000  1611.509750\n",
       "max     1.000000  60.000000  201.000000  103.000000  2137.082000"
      ]
     },
     "execution_count": 16,
     "metadata": {},
     "output_type": "execute_result"
    }
   ],
   "source": [
    "inputdata.describe()"
   ]
  },
  {
   "cell_type": "markdown",
   "metadata": {},
   "source": [
    "# cleaning data"
   ]
  },
  {
   "cell_type": "code",
   "execution_count": 17,
   "metadata": {
    "scrolled": true
   },
   "outputs": [
    {
     "data": {
      "text/html": [
       "<div>\n",
       "<style scoped>\n",
       "    .dataframe tbody tr th:only-of-type {\n",
       "        vertical-align: middle;\n",
       "    }\n",
       "\n",
       "    .dataframe tbody tr th {\n",
       "        vertical-align: top;\n",
       "    }\n",
       "\n",
       "    .dataframe thead th {\n",
       "        text-align: right;\n",
       "    }\n",
       "</style>\n",
       "<table border=\"1\" class=\"dataframe\">\n",
       "  <thead>\n",
       "    <tr style=\"text-align: right;\">\n",
       "      <th></th>\n",
       "      <th>ID</th>\n",
       "      <th>Calories</th>\n",
       "    </tr>\n",
       "  </thead>\n",
       "  <tbody>\n",
       "    <tr>\n",
       "      <th>count</th>\n",
       "      <td>14125.000000</td>\n",
       "      <td>14125.000000</td>\n",
       "    </tr>\n",
       "    <tr>\n",
       "      <th>mean</th>\n",
       "      <td>448217.450973</td>\n",
       "      <td>194.688044</td>\n",
       "    </tr>\n",
       "    <tr>\n",
       "      <th>std</th>\n",
       "      <td>305497.872798</td>\n",
       "      <td>149.633848</td>\n",
       "    </tr>\n",
       "    <tr>\n",
       "      <th>min</th>\n",
       "      <td>167512.000000</td>\n",
       "      <td>1.000000</td>\n",
       "    </tr>\n",
       "    <tr>\n",
       "      <th>25%</th>\n",
       "      <td>171044.000000</td>\n",
       "      <td>81.000000</td>\n",
       "    </tr>\n",
       "    <tr>\n",
       "      <th>50%</th>\n",
       "      <td>174600.000000</td>\n",
       "      <td>159.000000</td>\n",
       "    </tr>\n",
       "    <tr>\n",
       "      <th>75%</th>\n",
       "      <td>784733.000000</td>\n",
       "      <td>269.000000</td>\n",
       "    </tr>\n",
       "    <tr>\n",
       "      <th>max</th>\n",
       "      <td>789770.000000</td>\n",
       "      <td>902.000000</td>\n",
       "    </tr>\n",
       "  </tbody>\n",
       "</table>\n",
       "</div>"
      ],
      "text/plain": [
       "                  ID      Calories\n",
       "count   14125.000000  14125.000000\n",
       "mean   448217.450973    194.688044\n",
       "std    305497.872798    149.633848\n",
       "min    167512.000000      1.000000\n",
       "25%    171044.000000     81.000000\n",
       "50%    174600.000000    159.000000\n",
       "75%    784733.000000    269.000000\n",
       "max    789770.000000    902.000000"
      ]
     },
     "execution_count": 17,
     "metadata": {},
     "output_type": "execute_result"
    }
   ],
   "source": [
    "data= data[data['Calories'] != 0] #Removing unwanted data where calories is null\n",
    "data.describe()"
   ]
  },
  {
   "cell_type": "markdown",
   "metadata": {},
   "source": [
    "# Training the model"
   ]
  },
  {
   "cell_type": "code",
   "execution_count": 18,
   "metadata": {
    "scrolled": true
   },
   "outputs": [],
   "source": [
    "x = inputdata[['gender', 'Age', 'Height', 'weight']]\n",
    "y = inputdata['calories']"
   ]
  },
  {
   "cell_type": "code",
   "execution_count": 19,
   "metadata": {
    "scrolled": true
   },
   "outputs": [],
   "source": [
    "from sklearn.model_selection import train_test_split\n",
    "splitRatio = 0.1\n",
    "\n",
    "x_train, x_test, y_train, y_test = train_test_split(x, y, test_size = splitRatio,random_state = 0)\n"
   ]
  },
  {
   "cell_type": "code",
   "execution_count": 20,
   "metadata": {},
   "outputs": [],
   "source": [
    "from sklearn.linear_model import LinearRegression\n",
    "from sklearn.metrics import r2_score\n",
    "new=LinearRegression()\n",
    "new.fit(x_train,y_train)\n",
    "y_pred=new.predict(x_test)"
   ]
  },
  {
   "cell_type": "code",
   "execution_count": 21,
   "metadata": {},
   "outputs": [
    {
     "data": {
      "text/plain": [
       "Text(0, 0.5, 'Predicted Y')"
      ]
     },
     "execution_count": 21,
     "metadata": {},
     "output_type": "execute_result"
    },
    {
     "data": {
      "image/png": "[encoded data removed]",
      "text/plain": [
       "<Figure size 1800x720 with 1 Axes>"
      ]
     },
     "metadata": {
      "needs_background": "light"
     },
     "output_type": "display_data"
    }
   ],
   "source": [
    "plt.scatter(y_test,y_pred)\n",
    "plt.xlabel('Y Test')\n",
    "plt.ylabel('Predicted Y')"
   ]
  },
  {
   "cell_type": "code",
   "execution_count": 22,
   "metadata": {},
   "outputs": [
    {
     "name": "stdout",
     "output_type": "stream",
     "text": [
      "Variance score: 0.91\n"
     ]
    }
   ],
   "source": [
    "print('Variance score: %.2f' % r2_score(y_test, y_pred))"
   ]
  },
  {
   "cell_type": "code",
   "execution_count": 23,
   "metadata": {},
   "outputs": [
    {
     "name": "stdout",
     "output_type": "stream",
     "text": [
      "MAE: 21.882077259879225\n",
      "MSE: 684.5163148393892\n",
      "RMSE: 26.163262694843493\n"
     ]
    }
   ],
   "source": [
    "from sklearn import metrics\n",
    "\n",
    "print('MAE:', metrics.mean_absolute_error(y_test, y_pred))\n",
    "print('MSE:', metrics.mean_squared_error(y_test, y_pred))\n",
    "print('RMSE:', np.sqrt(metrics.mean_squared_error(y_test, y_pred)))"
   ]
  },
  {
   "cell_type": "markdown",
   "metadata": {},
   "source": [
    "# Asking user for input"
   ]
  },
  {
   "cell_type": "code",
   "execution_count": 24,
   "metadata": {},
   "outputs": [
    {
     "name": "stdout",
     "output_type": "stream",
     "text": [
      "Enter your Gender, 0 for male and 1 for female: 1\n",
      "Enter your age: 38\n",
      "Enter your Height in cm: 190\n",
      "Enter your Weight in Kg: 98\n"
     ]
    }
   ],
   "source": [
    "Gender= input('Enter your Gender, 0 for male and 1 for female: ')\n",
    "Age = input(\"Enter your age: \")\n",
    "Height = input(\"Enter your Height in cm: \")\n",
    "Weight = input(\"Enter your Weight in Kg: \")\n",
    "ls = [Gender, Age, Height, Weight]\n",
    "new_df = pd.DataFrame([ls])"
   ]
  },
  {
   "cell_type": "code",
   "execution_count": 25,
   "metadata": {},
   "outputs": [
    {
     "name": "stdout",
     "output_type": "stream",
     "text": [
      "[1855]\n"
     ]
    }
   ],
   "source": [
    "prediction = new.predict(new_df)\n",
    "print(prediction.astype(int))\n",
    "predicted = prediction.astype(int)\n",
    "\n"
   ]
  },
  {
   "cell_type": "code",
   "execution_count": 26,
   "metadata": {},
   "outputs": [
    {
     "name": "stdout",
     "output_type": "stream",
     "text": [
      "Enter the exercise you perform daily: \n",
      "\n",
      "398 860 2870 3289 187 95 682\n",
      "\n",
      "\u001b[1mRecommended diet\u001b[0m\n",
      "\n",
      "Breakfast: Infant Formula Liquid Concentrate Made With Water NFS (Similac Advance) + Shredded Coconut Meat (Sweetened)\n",
      "\n",
      "Lunch: Bread Oat Bran + Jellyfish Dried Salted + Guava Nectar With Sucralose Canned + Beans Snap Green Canned Regular Pack Drained Solids\n",
      "\n",
      "Snacks 1: Puddings Chocolate Dry Mix Instant Prepared With 2% Milk\n",
      "\n",
      "Dinner: Beans Liquid From Stewed Kidney Beans + Cheese Cottage Lowfat 1% Milkfat Lactose Reduced + Cowpeas Young Pods With Seeds Cooked Boiled Drained With Salt +Apricots Canned Extra Heavy Syrup Pack Without Skin Solids And Liquids\n",
      "\n",
      "Snacks 2: Syrups Table Blends Pancake Reduced-Calorie\n",
      "\n"
     ]
    }
   ],
   "source": [
    "\n",
    "breakfast = data.loc[(data['Food Group'] == 'Breakfast Cereals') | (data['Food Group'] == 'Baverages') | (data['Food Group'] == 'Baby Foods')]\n",
    "\n",
    "lunch = data.loc[(data['Food Group'] == 'Baked Foods') | (data['Food Group'] == 'Fast Foods') | (data['Food Group'] == 'Restaurant Foods') | (data['Food Group'] == 'Fats and Oils') | \n",
    "                (data['Food Group'] == 'Soups and Sauces') | (data['Food Group'] == 'Beans and Lentils') | (data['Food Group'] == 'Grains and Pasta')]\n",
    "\n",
    "dinner = data.loc[(data['Food Group'] == 'Baked Foods') | (data['Food Group'] == 'American Idian') | (data['Food Group'] == 'Fast Foods') | (data['Food Group'] == 'Beans and Lentils') |\n",
    "                 (data['Food Group'] == 'Soups and Sauces') | (data['Food Group'] == 'Prepared Meals')]\n",
    "\n",
    "snacks = data.loc[(data['Food Group'] == 'Snacks') | (data['Food Group'] == 'Sweets')]\n",
    "\n",
    "fruits = data.loc[(data['Food Group'] == 'Fruits') | (data['Food Group'] == 'Nuts and Seeds')]\n",
    "\n",
    "meat = data.loc[(data['Food Group'] == 'Meats') | (data['Food Group'] == 'Dairy and Egg Products') | (data['Food Group'] == 'Fish')]\n",
    "\n",
    "vegetables = data.loc[data['Food Group'] == 'Vegetables']\n",
    "\n",
    "import random \n",
    "# n = random.randint(0, 100)\n",
    "# m = random.randint(4143, 20000)\n",
    "\n",
    "for a in predicted:\n",
    "    amr = input('Enter the exercise you perform daily: \\n')\n",
    "    if amr == 'Sedentary (little or no exercise)':\n",
    "        cal = a * 1.2\n",
    "    elif amr == 'Lightly active (1-3 days/week)':\n",
    "        cal = a * 1.375\n",
    "    elif amr == 'Moderately active (3-5 days/week)':\n",
    "        cal = a * 1.55\n",
    "    elif amr == 'Very active (6-7 days/week)':\n",
    "        cal = a * 1.725\n",
    "    elif amr == 'Super active (twice/day)':\n",
    "        cal = a * 1.9\n",
    "    else: cal = a\n",
    "    b = (22/100)*cal\n",
    "    l = (24/100)*cal\n",
    "    d = (26/100)*cal\n",
    "    s = (14/100)*cal\n",
    "    f = (8/100)*cal\n",
    "    m = (4/100)*cal\n",
    "    v = (2/100)*cal\n",
    "#     print(b +l+d+s+f+m)\n",
    "\n",
    "    bf = breakfast.loc[breakfast['Calories'] <= b]\n",
    "    suggest_bf = bf.loc[:,'name']\n",
    "    \n",
    "    fts =fruits.loc[fruits['Calories'] <= f]\n",
    "    suggest_fruits = fts.loc[:, 'name']\n",
    "    \n",
    "    lch = lunch.loc[lunch.Calories <= l]\n",
    "    suggest_lch = lch.loc[:, 'name']\n",
    "    \n",
    "    dn = dinner.loc[dinner.Calories <= d]\n",
    "    suggest_dn = dn.loc[:, 'name']\n",
    "    \n",
    "    snck = snacks.loc[snacks.Calories <= s]\n",
    "    suggest_snck = snck.loc[:, 'name']\n",
    "    \n",
    "    mts = meat.loc[meat.Calories <= m]\n",
    "    suggest_mts = mts.loc[:, 'name']\n",
    "    \n",
    "    vgtbles = vegetables.loc[vegetables.Calories <= v]\n",
    "    suggest_vgtbles = vgtbles.loc[:, 'name']\n",
    "    \n",
    "    bf_lst = []\n",
    "    fruit_lst  = []\n",
    "    lch_lst = []\n",
    "    dn_lst = []\n",
    "    snck_lst = []\n",
    "    mts_lst = []\n",
    "    vgtbles_lst =[]\n",
    "    \n",
    "    for ft in suggest_fruits:\n",
    "        fruit_lst.append(ft)\n",
    "        \n",
    "    for bfs in suggest_bf:\n",
    "        bf_lst.append(bfs)\n",
    "    \n",
    "    for lchs in suggest_lch:\n",
    "        lch_lst.append(lchs)\n",
    "        \n",
    "    for dns in suggest_dn:\n",
    "        dn_lst.append(dns)\n",
    "        \n",
    "    for sncks in suggest_snck:\n",
    "        snck_lst.append(sncks)\n",
    "        \n",
    "    for mt in suggest_mts:\n",
    "        mts_lst.append(mt)\n",
    "        \n",
    "    for vgt in suggest_vgtbles:\n",
    "        vgtbles_lst.append(vgt)\n",
    "        \n",
    "    print(len(fruit_lst), len(bf_lst), len(lch_lst), len(dn_lst), len(snck_lst), len(mts_lst), len(vgtbles_lst))\n",
    "# #     print(lst_from_suggested)\n",
    "\n",
    "    fruit_to_suggest = fruit_lst[random.randint(0, 100)]\n",
    "    Breakfast_to_suggest = bf_lst[random.randint(0, 600)]\n",
    "    lunch_to_suggest = lch_lst[random.randint(0, 1000)]\n",
    "    dinner_to_suggest = dn_lst[random.randint(0, 2000)]\n",
    "    snacks_to_suggest = snck_lst[random.randint(0, 100)]\n",
    "    meat_to_suggest = mts_lst[random.randint(0, 8)]\n",
    "    vegetables_to_suggest = vgtbles_lst[random.randint(0, 150)]\n",
    "    \n",
    "    print('\\n''\\033[1m' + 'Recommended diet' + '\\033[0m''\\n')\n",
    "    print(f'Breakfast: {Breakfast_to_suggest} + {fruit_lst[random.randint(0, 80)]}\\n')\n",
    "    print(f'Lunch: {lunch_to_suggest} + {mts_lst[random.randint(5, 8)]} + {fruit_lst[random.randint(81, 160)]} + {vgtbles_lst[random.randint(101, 153)]}\\n')\n",
    "    print(f'Snacks 1: {snck_lst[random.randint(0, 50)]}\\n')\n",
    "    print(f'Dinner: {dinner_to_suggest} + {mts_lst[random.randint(0, 4)]} + {vgtbles_lst[random.randint(0, 100)]} +{fruit_lst[random.randint(161, 270)]}\\n')\n",
    "    print(f'Snacks 2: {snck_lst[random.randint(51, 110)]}\\n')\n",
    "# #     print(suggested)\n",
    "# #     print(suggest.loc[suggest['Food Group'] == 'Breakfast Cereals'])\n",
    "#     bf_lst = [4143, 4145, 4147, 4150, 4154]\n",
    "#     for l in bf_lst:\n",
    "#         bf = suggest.loc[l, 'name']\n",
    "#         print(bf)"
   ]
  },
  {
   "cell_type": "code",
   "execution_count": null,
   "metadata": {},
   "outputs": [],
   "source": []
  },
  {
   "cell_type": "code",
   "execution_count": 27,
   "metadata": {},
   "outputs": [],
   "source": [
    "#bf"
   ]
  },
  {
   "cell_type": "code",
   "execution_count": null,
   "metadata": {},
   "outputs": [],
   "source": []
  }
 ],
 "metadata": {
  "kernelspec": {
   "display_name": "Python 3",
   "language": "python",
   "name": "python3"
  },
  "language_info": {
   "codemirror_mode": {
    "name": "ipython",
    "version": 3
   },
   "file_extension": ".py",
   "mimetype": "text/x-python",
   "name": "python",
   "nbconvert_exporter": "python",
   "pygments_lexer": "ipython3",
   "version": "3.8.8"
  }
 },
 "nbformat": 4,
 "nbformat_minor": 4
}
